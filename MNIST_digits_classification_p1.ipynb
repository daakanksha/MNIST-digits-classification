{
  "nbformat": 4,
  "nbformat_minor": 0,
  "metadata": {
    "colab": {
      "name": "MNIST digits classification p1.ipynb",
      "provenance": [],
      "collapsed_sections": [],
      "authorship_tag": "ABX9TyM/LjmdvzdrrmSZ9Yca0Puv",
      "include_colab_link": true
    },
    "kernelspec": {
      "name": "python3",
      "display_name": "Python 3"
    },
    "language_info": {
      "name": "python"
    }
  },
  "cells": [
    {
      "cell_type": "markdown",
      "metadata": {
        "id": "view-in-github",
        "colab_type": "text"
      },
      "source": [
        "<a href=\"https://colab.research.google.com/github/daakanksha/MNIST-digits-classification/blob/main/MNIST_digits_classification_p1.ipynb\" target=\"_parent\"><img src=\"https://colab.research.google.com/assets/colab-badge.svg\" alt=\"Open In Colab\"/></a>"
      ]
    },
    {
      "cell_type": "code",
      "metadata": {
        "id": "6gSJDTMqrh4p"
      },
      "source": [
        "import tensorflow as tf\n",
        "from tensorflow import keras\n",
        "import matplotlib.pyplot as plt\n",
        "import numpy as np\n",
        "import pandas as pd\n",
        "import matplotlib.pyplot as plt\n",
        "%matplotlib inline"
      ],
      "execution_count": 1,
      "outputs": []
    },
    {
      "cell_type": "code",
      "metadata": {
        "id": "Xt0bHYEKrmyT",
        "colab": {
          "base_uri": "https://localhost:8080/"
        },
        "outputId": "1ddbf0ed-1364-4a94-c492-f4997e1d8f97"
      },
      "source": [
        "mnist = keras.datasets.mnist\n",
        "(x_train, y_train), (x_test, y_test) = keras.datasets.mnist.load_data()"
      ],
      "execution_count": 2,
      "outputs": [
        {
          "output_type": "stream",
          "text": [
            "Downloading data from https://storage.googleapis.com/tensorflow/tf-keras-datasets/mnist.npz\n",
            "11493376/11490434 [==============================] - 0s 0us/step\n"
          ],
          "name": "stdout"
        }
      ]
    },
    {
      "cell_type": "code",
      "metadata": {
        "colab": {
          "base_uri": "https://localhost:8080/"
        },
        "id": "n09uSuYesX2W",
        "outputId": "f769d80f-1987-4997-9d0e-4528f536b8fb"
      },
      "source": [
        "print(x_train.shape)\n",
        "print(x_test.shape)\n",
        "print(y_train.shape)\n",
        "print(y_test.shape)"
      ],
      "execution_count": 3,
      "outputs": [
        {
          "output_type": "stream",
          "text": [
            "(60000, 28, 28)\n",
            "(10000, 28, 28)\n",
            "(60000,)\n",
            "(10000,)\n"
          ],
          "name": "stdout"
        }
      ]
    },
    {
      "cell_type": "code",
      "metadata": {
        "colab": {
          "base_uri": "https://localhost:8080/",
          "height": 282
        },
        "id": "Xl5-Navvsnap",
        "outputId": "c969b7dc-cfa5-48b4-d8da-dc847471c77f"
      },
      "source": [
        "i=140\n",
        "plt.imshow(x_train[i],cmap='gray')\n",
        "plt.show()\n",
        "print(f\"Output:{y_train[i]}\")"
      ],
      "execution_count": 4,
      "outputs": [
        {
          "output_type": "display_data",
          "data": {
            "image/png": "[encoded data removed]",
            "text/plain": [
              "<Figure size 432x288 with 1 Axes>"
            ]
          },
          "metadata": {
            "tags": [],
            "needs_background": "light"
          }
        },
        {
          "output_type": "stream",
          "text": [
            "Output:7\n"
          ],
          "name": "stdout"
        }
      ]
    },
    {
      "cell_type": "code",
      "metadata": {
        "colab": {
          "base_uri": "https://localhost:8080/",
          "height": 589
        },
        "id": "9hjlExtty1N3",
        "outputId": "78ff20f8-833f-4b97-9aba-0874d862ab25"
      },
      "source": [
        "plt.figure(figsize=(10,10))\n",
        "for i in range(0,16):\n",
        "    plt.subplot(4, 4, i+1)\n",
        "    plt.imshow(x_train[i], cmap='binary')\n",
        "    plt.xlabel(str(y_train[i]))\n",
        "    plt.xticks([])\n",
        "    plt.yticks([])\n",
        "plt.show()"
      ],
      "execution_count": 5,
      "outputs": [
        {
          "output_type": "display_data",
          "data": {
            "image/png": "[encoded data removed]",
            "text/plain": [
              "<Figure size 720x720 with 16 Axes>"
            ]
          },
          "metadata": {
            "tags": []
          }
        }
      ]
    },
    {
      "cell_type": "code",
      "metadata": {
        "id": "SD1wZmLEs4An"
      },
      "source": [
        "# Normalization\n",
        "x_train = np.reshape(x_train,(60000, 28 * 28))\n",
        "x_test = np.reshape(x_test, (10000, 28 *28))\n",
        "x_train = x_train / 255.\n",
        "x_test = x_test / 255."
      ],
      "execution_count": 6,
      "outputs": []
    },
    {
      "cell_type": "code",
      "metadata": {
        "id": "UazZTDVDuhPW",
        "colab": {
          "base_uri": "https://localhost:8080/"
        },
        "outputId": "b5e30ea7-30f5-4c21-e332-4c48a2933e1c"
      },
      "source": [
        "# Creating a neural network\n",
        "model = tf.keras.models.Sequential([tf.keras.layers.Flatten(input_shape=x_train[0].shape),\n",
        "    tf.keras.layers.Dense(32, activation = 'sigmoid', input_shape = (784,)),\n",
        "    tf.keras.layers.Dense(32, activation='sigmoid'),\n",
        "    tf.keras.layers.Dense(1568,activation='relu'),\n",
        "    tf.keras.layers.Dense(10, activation='softmax')\n",
        "])\n",
        "model.summary()"
      ],
      "execution_count": 7,
      "outputs": [
        {
          "output_type": "stream",
          "text": [
            "Model: \"sequential\"\n",
            "_________________________________________________________________\n",
            "Layer (type)                 Output Shape              Param #   \n",
            "=================================================================\n",
            "flatten (Flatten)            (None, 784)               0         \n",
            "_________________________________________________________________\n",
            "dense (Dense)                (None, 32)                25120     \n",
            "_________________________________________________________________\n",
            "dense_1 (Dense)              (None, 32)                1056      \n",
            "_________________________________________________________________\n",
            "dense_2 (Dense)              (None, 1568)              51744     \n",
            "_________________________________________________________________\n",
            "dense_3 (Dense)              (None, 10)                15690     \n",
            "=================================================================\n",
            "Total params: 93,610\n",
            "Trainable params: 93,610\n",
            "Non-trainable params: 0\n",
            "_________________________________________________________________\n"
          ],
          "name": "stdout"
        }
      ]
    },
    {
      "cell_type": "code",
      "metadata": {
        "id": "NlJ7TtSU0JYU"
      },
      "source": [
        "model.compile(loss='sparse_categorical_crossentropy',optimizer='adam', metrics = ['accuracy'])"
      ],
      "execution_count": 8,
      "outputs": []
    },
    {
      "cell_type": "code",
      "metadata": {
        "colab": {
          "base_uri": "https://localhost:8080/"
        },
        "id": "_YXyvobg1Kmn",
        "outputId": "ff3c34c1-f5a1-478b-e521-1a4886342a02"
      },
      "source": [
        "# Train model\n",
        "mfit=model.fit(x_train, y_train,validation_data=(x_test, y_test),epochs=40, batch_size = 1024,verbose=2)"
      ],
      "execution_count": 9,
      "outputs": [
        {
          "output_type": "stream",
          "text": [
            "Epoch 1/40\n",
            "59/59 - 2s - loss: 1.8773 - accuracy: 0.3990 - val_loss: 1.0495 - val_accuracy: 0.6748\n",
            "Epoch 2/40\n",
            "59/59 - 1s - loss: 0.7273 - accuracy: 0.7747 - val_loss: 0.5390 - val_accuracy: 0.8440\n",
            "Epoch 3/40\n",
            "59/59 - 1s - loss: 0.4779 - accuracy: 0.8616 - val_loss: 0.4222 - val_accuracy: 0.8816\n",
            "Epoch 4/40\n",
            "59/59 - 1s - loss: 0.3808 - accuracy: 0.8916 - val_loss: 0.3477 - val_accuracy: 0.8997\n",
            "Epoch 5/40\n",
            "59/59 - 1s - loss: 0.3183 - accuracy: 0.9077 - val_loss: 0.2955 - val_accuracy: 0.9127\n",
            "Epoch 6/40\n",
            "59/59 - 1s - loss: 0.2778 - accuracy: 0.9201 - val_loss: 0.2663 - val_accuracy: 0.9204\n",
            "Epoch 7/40\n",
            "59/59 - 1s - loss: 0.2489 - accuracy: 0.9276 - val_loss: 0.2410 - val_accuracy: 0.9301\n",
            "Epoch 8/40\n",
            "59/59 - 1s - loss: 0.2253 - accuracy: 0.9348 - val_loss: 0.2233 - val_accuracy: 0.9340\n",
            "Epoch 9/40\n",
            "59/59 - 1s - loss: 0.2059 - accuracy: 0.9405 - val_loss: 0.2066 - val_accuracy: 0.9385\n",
            "Epoch 10/40\n",
            "59/59 - 1s - loss: 0.1911 - accuracy: 0.9438 - val_loss: 0.2009 - val_accuracy: 0.9421\n",
            "Epoch 11/40\n",
            "59/59 - 1s - loss: 0.1778 - accuracy: 0.9480 - val_loss: 0.1850 - val_accuracy: 0.9457\n",
            "Epoch 12/40\n",
            "59/59 - 1s - loss: 0.1659 - accuracy: 0.9517 - val_loss: 0.1826 - val_accuracy: 0.9465\n",
            "Epoch 13/40\n",
            "59/59 - 1s - loss: 0.1561 - accuracy: 0.9534 - val_loss: 0.1682 - val_accuracy: 0.9484\n",
            "Epoch 14/40\n",
            "59/59 - 1s - loss: 0.1477 - accuracy: 0.9567 - val_loss: 0.1633 - val_accuracy: 0.9506\n",
            "Epoch 15/40\n",
            "59/59 - 1s - loss: 0.1404 - accuracy: 0.9590 - val_loss: 0.1583 - val_accuracy: 0.9536\n",
            "Epoch 16/40\n",
            "59/59 - 1s - loss: 0.1338 - accuracy: 0.9609 - val_loss: 0.1612 - val_accuracy: 0.9544\n",
            "Epoch 17/40\n",
            "59/59 - 1s - loss: 0.1272 - accuracy: 0.9627 - val_loss: 0.1460 - val_accuracy: 0.9570\n",
            "Epoch 18/40\n",
            "59/59 - 1s - loss: 0.1213 - accuracy: 0.9645 - val_loss: 0.1465 - val_accuracy: 0.9557\n",
            "Epoch 19/40\n",
            "59/59 - 1s - loss: 0.1157 - accuracy: 0.9664 - val_loss: 0.1399 - val_accuracy: 0.9588\n",
            "Epoch 20/40\n",
            "59/59 - 1s - loss: 0.1126 - accuracy: 0.9669 - val_loss: 0.1387 - val_accuracy: 0.9592\n",
            "Epoch 21/40\n",
            "59/59 - 1s - loss: 0.1093 - accuracy: 0.9676 - val_loss: 0.1374 - val_accuracy: 0.9594\n",
            "Epoch 22/40\n",
            "59/59 - 1s - loss: 0.1048 - accuracy: 0.9693 - val_loss: 0.1340 - val_accuracy: 0.9610\n",
            "Epoch 23/40\n",
            "59/59 - 1s - loss: 0.1023 - accuracy: 0.9694 - val_loss: 0.1405 - val_accuracy: 0.9587\n",
            "Epoch 24/40\n",
            "59/59 - 1s - loss: 0.0974 - accuracy: 0.9711 - val_loss: 0.1315 - val_accuracy: 0.9620\n",
            "Epoch 25/40\n",
            "59/59 - 1s - loss: 0.0954 - accuracy: 0.9720 - val_loss: 0.1294 - val_accuracy: 0.9622\n",
            "Epoch 26/40\n",
            "59/59 - 1s - loss: 0.0914 - accuracy: 0.9732 - val_loss: 0.1255 - val_accuracy: 0.9642\n",
            "Epoch 27/40\n",
            "59/59 - 1s - loss: 0.0879 - accuracy: 0.9741 - val_loss: 0.1295 - val_accuracy: 0.9627\n",
            "Epoch 28/40\n",
            "59/59 - 1s - loss: 0.0863 - accuracy: 0.9743 - val_loss: 0.1271 - val_accuracy: 0.9620\n",
            "Epoch 29/40\n",
            "59/59 - 1s - loss: 0.0825 - accuracy: 0.9760 - val_loss: 0.1266 - val_accuracy: 0.9634\n",
            "Epoch 30/40\n",
            "59/59 - 1s - loss: 0.0802 - accuracy: 0.9762 - val_loss: 0.1227 - val_accuracy: 0.9646\n",
            "Epoch 31/40\n",
            "59/59 - 1s - loss: 0.0783 - accuracy: 0.9768 - val_loss: 0.1266 - val_accuracy: 0.9649\n",
            "Epoch 32/40\n",
            "59/59 - 1s - loss: 0.0762 - accuracy: 0.9778 - val_loss: 0.1257 - val_accuracy: 0.9644\n",
            "Epoch 33/40\n",
            "59/59 - 1s - loss: 0.0750 - accuracy: 0.9776 - val_loss: 0.1248 - val_accuracy: 0.9642\n",
            "Epoch 34/40\n",
            "59/59 - 1s - loss: 0.0721 - accuracy: 0.9786 - val_loss: 0.1226 - val_accuracy: 0.9665\n",
            "Epoch 35/40\n",
            "59/59 - 1s - loss: 0.0704 - accuracy: 0.9793 - val_loss: 0.1216 - val_accuracy: 0.9658\n",
            "Epoch 36/40\n",
            "59/59 - 1s - loss: 0.0677 - accuracy: 0.9803 - val_loss: 0.1241 - val_accuracy: 0.9653\n",
            "Epoch 37/40\n",
            "59/59 - 1s - loss: 0.0664 - accuracy: 0.9806 - val_loss: 0.1254 - val_accuracy: 0.9645\n",
            "Epoch 38/40\n",
            "59/59 - 1s - loss: 0.0644 - accuracy: 0.9810 - val_loss: 0.1236 - val_accuracy: 0.9658\n",
            "Epoch 39/40\n",
            "59/59 - 1s - loss: 0.0619 - accuracy: 0.9818 - val_loss: 0.1262 - val_accuracy: 0.9655\n",
            "Epoch 40/40\n",
            "59/59 - 1s - loss: 0.0619 - accuracy: 0.9822 - val_loss: 0.1280 - val_accuracy: 0.9643\n"
          ],
          "name": "stdout"
        }
      ]
    },
    {
      "cell_type": "code",
      "metadata": {
        "colab": {
          "base_uri": "https://localhost:8080/",
          "height": 265
        },
        "id": "PqO9kx05MXT9",
        "outputId": "3d370d1d-ca1a-4143-be66-8600a824e850"
      },
      "source": [
        "grp= pd.DataFrame(model.history.history).plot()"
      ],
      "execution_count": 10,
      "outputs": [
        {
          "output_type": "display_data",
          "data": {
            "image/png": "[encoded data removed]",
            "text/plain": [
              "<Figure size 432x288 with 1 Axes>"
            ]
          },
          "metadata": {
            "tags": [],
            "needs_background": "light"
          }
        }
      ]
    },
    {
      "cell_type": "code",
      "metadata": {
        "id": "_2hOaT4c1byt"
      },
      "source": [
        "model.save('digital.hdf5')"
      ],
      "execution_count": 11,
      "outputs": []
    },
    {
      "cell_type": "code",
      "metadata": {
        "colab": {
          "base_uri": "https://localhost:8080/"
        },
        "id": "zkbL27LiNIA7",
        "outputId": "2e3c1807-9c65-412d-a38a-b30df6f18f64"
      },
      "source": [
        "x_test[1]"
      ],
      "execution_count": 12,
      "outputs": [
        {
          "output_type": "execute_result",
          "data": {
            "text/plain": [
              "array([0.        , 0.        , 0.        , 0.        , 0.        ,\n",
              "       0.        , 0.        , 0.        , 0.        , 0.        ,\n",
              "       0.        , 0.        , 0.        , 0.        , 0.        ,\n",
              "       0.        , 0.        , 0.        , 0.        , 0.        ,\n",
              "       0.        , 0.        , 0.        , 0.        , 0.        ,\n",
              "       0.        , 0.        , 0.        , 0.        , 0.        ,\n",
              "       0.        , 0.        , 0.        , 0.        , 0.        ,\n",
              "       0.        , 0.        , 0.        , 0.        , 0.        ,\n",
              "       0.        , 0.        , 0.        , 0.        , 0.        ,\n",
              "       0.        , 0.        , 0.        , 0.        , 0.        ,\n",
              "       0.        , 0.        , 0.        , 0.        , 0.        ,\n",
              "       0.        , 0.        , 0.        , 0.        , 0.        ,\n",
              "       0.        , 0.        , 0.        , 0.        , 0.        ,\n",
              "       0.        , 0.        , 0.        , 0.        , 0.        ,\n",
              "       0.        , 0.        , 0.        , 0.        , 0.        ,\n",
              "       0.        , 0.        , 0.        , 0.        , 0.        ,\n",
              "       0.        , 0.        , 0.        , 0.        , 0.        ,\n",
              "       0.        , 0.        , 0.        , 0.        , 0.        ,\n",
              "       0.        , 0.        , 0.        , 0.        , 0.45490196,\n",
              "       0.49019608, 0.67058824, 1.        , 1.        , 0.58823529,\n",
              "       0.36470588, 0.        , 0.        , 0.        , 0.        ,\n",
              "       0.        , 0.        , 0.        , 0.        , 0.        ,\n",
              "       0.        , 0.        , 0.        , 0.        , 0.        ,\n",
              "       0.        , 0.        , 0.        , 0.        , 0.        ,\n",
              "       0.        , 0.6627451 , 0.99215686, 0.99215686, 0.99215686,\n",
              "       0.99215686, 0.99215686, 0.99215686, 0.85490196, 0.11764706,\n",
              "       0.        , 0.        , 0.        , 0.        , 0.        ,\n",
              "       0.        , 0.        , 0.        , 0.        , 0.        ,\n",
              "       0.        , 0.        , 0.        , 0.        , 0.        ,\n",
              "       0.        , 0.        , 0.        , 0.6627451 , 0.99215686,\n",
              "       0.99215686, 0.99215686, 0.83529412, 0.55686275, 0.69019608,\n",
              "       0.99215686, 0.99215686, 0.47843137, 0.        , 0.        ,\n",
              "       0.        , 0.        , 0.        , 0.        , 0.        ,\n",
              "       0.        , 0.        , 0.        , 0.        , 0.        ,\n",
              "       0.        , 0.        , 0.        , 0.        , 0.        ,\n",
              "       0.20392157, 0.98039216, 0.99215686, 0.82352941, 0.1254902 ,\n",
              "       0.04705882, 0.        , 0.02352941, 0.80784314, 0.99215686,\n",
              "       0.54901961, 0.        , 0.        , 0.        , 0.        ,\n",
              "       0.        , 0.        , 0.        , 0.        , 0.        ,\n",
              "       0.        , 0.        , 0.        , 0.        , 0.        ,\n",
              "       0.        , 0.        , 0.        , 0.30196078, 0.98431373,\n",
              "       0.82352941, 0.09803922, 0.        , 0.        , 0.        ,\n",
              "       0.47843137, 0.97254902, 0.99215686, 0.25490196, 0.        ,\n",
              "       0.        , 0.        , 0.        , 0.        , 0.        ,\n",
              "       0.        , 0.        , 0.        , 0.        , 0.        ,\n",
              "       0.        , 0.        , 0.        , 0.        , 0.        ,\n",
              "       0.        , 0.        , 0.12156863, 0.07058824, 0.        ,\n",
              "       0.        , 0.        , 0.        , 0.81960784, 0.99215686,\n",
              "       0.99215686, 0.25490196, 0.        , 0.        , 0.        ,\n",
              "       0.        , 0.        , 0.        , 0.        , 0.        ,\n",
              "       0.        , 0.        , 0.        , 0.        , 0.        ,\n",
              "       0.        , 0.        , 0.        , 0.        , 0.        ,\n",
              "       0.        , 0.        , 0.        , 0.        , 0.        ,\n",
              "       0.45882353, 0.96862745, 0.99215686, 0.77647059, 0.03921569,\n",
              "       0.        , 0.        , 0.        , 0.        , 0.        ,\n",
              "       0.        , 0.        , 0.        , 0.        , 0.        ,\n",
              "       0.        , 0.        , 0.        , 0.        , 0.        ,\n",
              "       0.        , 0.        , 0.        , 0.        , 0.        ,\n",
              "       0.        , 0.        , 0.29803922, 0.96862745, 0.99215686,\n",
              "       0.90588235, 0.24705882, 0.        , 0.        , 0.        ,\n",
              "       0.        , 0.        , 0.        , 0.        , 0.        ,\n",
              "       0.        , 0.        , 0.        , 0.        , 0.        ,\n",
              "       0.        , 0.        , 0.        , 0.        , 0.        ,\n",
              "       0.        , 0.        , 0.        , 0.        , 0.        ,\n",
              "       0.50196078, 0.99215686, 0.99215686, 0.56470588, 0.        ,\n",
              "       0.        , 0.        , 0.        , 0.        , 0.        ,\n",
              "       0.        , 0.        , 0.        , 0.        , 0.        ,\n",
              "       0.        , 0.        , 0.        , 0.        , 0.        ,\n",
              "       0.        , 0.        , 0.        , 0.        , 0.        ,\n",
              "       0.        , 0.        , 0.69019608, 0.96470588, 0.99215686,\n",
              "       0.62352941, 0.04705882, 0.        , 0.        , 0.        ,\n",
              "       0.        , 0.        , 0.        , 0.        , 0.        ,\n",
              "       0.        , 0.        , 0.        , 0.        , 0.        ,\n",
              "       0.        , 0.        , 0.        , 0.        , 0.        ,\n",
              "       0.        , 0.        , 0.        , 0.        , 0.09803922,\n",
              "       0.91764706, 0.99215686, 0.91372549, 0.1372549 , 0.        ,\n",
              "       0.        , 0.        , 0.        , 0.        , 0.        ,\n",
              "       0.        , 0.        , 0.        , 0.        , 0.        ,\n",
              "       0.        , 0.        , 0.        , 0.        , 0.        ,\n",
              "       0.        , 0.        , 0.        , 0.        , 0.        ,\n",
              "       0.        , 0.        , 0.77647059, 0.99215686, 0.99215686,\n",
              "       0.55294118, 0.        , 0.        , 0.        , 0.        ,\n",
              "       0.        , 0.        , 0.        , 0.        , 0.        ,\n",
              "       0.        , 0.        , 0.        , 0.        , 0.        ,\n",
              "       0.        , 0.        , 0.        , 0.        , 0.        ,\n",
              "       0.        , 0.        , 0.        , 0.        , 0.30588235,\n",
              "       0.97254902, 0.99215686, 0.74117647, 0.04705882, 0.        ,\n",
              "       0.        , 0.        , 0.        , 0.        , 0.        ,\n",
              "       0.        , 0.        , 0.        , 0.        , 0.        ,\n",
              "       0.        , 0.        , 0.        , 0.        , 0.        ,\n",
              "       0.        , 0.        , 0.        , 0.        , 0.        ,\n",
              "       0.        , 0.0745098 , 0.78431373, 0.99215686, 0.99215686,\n",
              "       0.55294118, 0.        , 0.        , 0.        , 0.        ,\n",
              "       0.        , 0.        , 0.        , 0.        , 0.        ,\n",
              "       0.        , 0.        , 0.        , 0.        , 0.        ,\n",
              "       0.        , 0.        , 0.        , 0.        , 0.        ,\n",
              "       0.        , 0.        , 0.        , 0.        , 0.5254902 ,\n",
              "       0.99215686, 0.99215686, 0.67843137, 0.04705882, 0.        ,\n",
              "       0.        , 0.        , 0.        , 0.        , 0.        ,\n",
              "       0.        , 0.        , 0.        , 0.        , 0.        ,\n",
              "       0.        , 0.        , 0.        , 0.        , 0.        ,\n",
              "       0.        , 0.        , 0.        , 0.        , 0.        ,\n",
              "       0.        , 0.        , 0.97254902, 0.99215686, 0.99215686,\n",
              "       0.09803922, 0.        , 0.        , 0.        , 0.        ,\n",
              "       0.        , 0.        , 0.        , 0.        , 0.        ,\n",
              "       0.        , 0.        , 0.        , 0.        , 0.        ,\n",
              "       0.        , 0.        , 0.        , 0.        , 0.        ,\n",
              "       0.        , 0.        , 0.        , 0.        , 0.        ,\n",
              "       0.97254902, 0.99215686, 0.99215686, 0.16862745, 0.07843137,\n",
              "       0.07843137, 0.07843137, 0.07843137, 0.01960784, 0.        ,\n",
              "       0.01960784, 0.07843137, 0.07843137, 0.14509804, 0.58823529,\n",
              "       0.58823529, 0.58823529, 0.57647059, 0.03921569, 0.        ,\n",
              "       0.        , 0.        , 0.        , 0.        , 0.        ,\n",
              "       0.        , 0.        , 0.        , 0.97254902, 0.99215686,\n",
              "       0.99215686, 0.99215686, 0.99215686, 0.99215686, 0.99215686,\n",
              "       0.99215686, 0.65882353, 0.56078431, 0.65098039, 0.99215686,\n",
              "       0.99215686, 0.99215686, 0.99215686, 0.99215686, 0.99215686,\n",
              "       0.99215686, 0.48235294, 0.        , 0.        , 0.        ,\n",
              "       0.        , 0.        , 0.        , 0.        , 0.        ,\n",
              "       0.        , 0.68235294, 0.99215686, 0.99215686, 0.99215686,\n",
              "       0.99215686, 0.99215686, 0.99215686, 0.99215686, 0.99215686,\n",
              "       0.99215686, 0.99215686, 0.99215686, 0.97647059, 0.96862745,\n",
              "       0.96862745, 0.6627451 , 0.45882353, 0.45882353, 0.22352941,\n",
              "       0.        , 0.        , 0.        , 0.        , 0.        ,\n",
              "       0.        , 0.        , 0.        , 0.        , 0.        ,\n",
              "       0.4627451 , 0.48235294, 0.48235294, 0.48235294, 0.65098039,\n",
              "       0.99215686, 0.99215686, 0.99215686, 0.60784314, 0.48235294,\n",
              "       0.48235294, 0.16078431, 0.        , 0.        , 0.        ,\n",
              "       0.        , 0.        , 0.        , 0.        , 0.        ,\n",
              "       0.        , 0.        , 0.        , 0.        , 0.        ,\n",
              "       0.        , 0.        , 0.        , 0.        , 0.        ,\n",
              "       0.        , 0.        , 0.        , 0.        , 0.        ,\n",
              "       0.        , 0.        , 0.        , 0.        , 0.        ,\n",
              "       0.        , 0.        , 0.        , 0.        , 0.        ,\n",
              "       0.        , 0.        , 0.        , 0.        , 0.        ,\n",
              "       0.        , 0.        , 0.        , 0.        , 0.        ,\n",
              "       0.        , 0.        , 0.        , 0.        , 0.        ,\n",
              "       0.        , 0.        , 0.        , 0.        , 0.        ,\n",
              "       0.        , 0.        , 0.        , 0.        , 0.        ,\n",
              "       0.        , 0.        , 0.        , 0.        , 0.        ,\n",
              "       0.        , 0.        , 0.        , 0.        , 0.        ,\n",
              "       0.        , 0.        , 0.        , 0.        , 0.        ,\n",
              "       0.        , 0.        , 0.        , 0.        , 0.        ,\n",
              "       0.        , 0.        , 0.        , 0.        , 0.        ,\n",
              "       0.        , 0.        , 0.        , 0.        , 0.        ,\n",
              "       0.        , 0.        , 0.        , 0.        , 0.        ,\n",
              "       0.        , 0.        , 0.        , 0.        , 0.        ,\n",
              "       0.        , 0.        , 0.        , 0.        , 0.        ,\n",
              "       0.        , 0.        , 0.        , 0.        , 0.        ,\n",
              "       0.        , 0.        , 0.        , 0.        , 0.        ,\n",
              "       0.        , 0.        , 0.        , 0.        , 0.        ,\n",
              "       0.        , 0.        , 0.        , 0.        , 0.        ,\n",
              "       0.        , 0.        , 0.        , 0.        , 0.        ,\n",
              "       0.        , 0.        , 0.        , 0.        , 0.        ,\n",
              "       0.        , 0.        , 0.        , 0.        , 0.        ,\n",
              "       0.        , 0.        , 0.        , 0.        , 0.        ,\n",
              "       0.        , 0.        , 0.        , 0.        ])"
            ]
          },
          "metadata": {
            "tags": []
          },
          "execution_count": 12
        }
      ]
    }
  ]
}