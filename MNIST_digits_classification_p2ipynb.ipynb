{
  "nbformat": 4,
  "nbformat_minor": 0,
  "metadata": {
    "colab": {
      "name": "MNIST digits classification p2ipynb",
      "provenance": [],
      "collapsed_sections": [],
      "authorship_tag": "ABX9TyNkb64n2WNXXRUWhknVqctH",
      "include_colab_link": true
    },
    "kernelspec": {
      "name": "python3",
      "display_name": "Python 3"
    },
    "language_info": {
      "name": "python"
    }
  },
  "cells": [
    {
      "cell_type": "markdown",
      "metadata": {
        "id": "view-in-github",
        "colab_type": "text"
      },
      "source": [
        "<a href=\"https://colab.research.google.com/github/daakanksha/MNIST-digits-classification/blob/main/MNIST_digits_classification_p2ipynb.ipynb\" target=\"_parent\"><img src=\"https://colab.research.google.com/assets/colab-badge.svg\" alt=\"Open In Colab\"/></a>"
      ]
    },
    {
      "cell_type": "code",
      "metadata": {
        "id": "XIaQWXW5zVTR"
      },
      "source": [
        "!pip install streamlit --quiet\n",
        "!pip install pyngrok==4.1.1 --quiet\n",
        "!pip install streamlit-drawable-canvas --quiet"
      ],
      "execution_count": null,
      "outputs": []
    },
    {
      "cell_type": "code",
      "metadata": {
        "colab": {
          "base_uri": "https://localhost:8080/"
        },
        "id": "W7Byn_PVyANe",
        "outputId": "b3985669-26cc-4c27-f79c-dcd94cec7f94"
      },
      "source": [
        "%%writefile app.py\n",
        "\n",
        "import os\n",
        "import numpy as np\n",
        "import cv2\n",
        "from tensorflow.keras.models import load_model\n",
        "import streamlit as st\n",
        "from streamlit_drawable_canvas import st_canvas\n",
        "\n",
        "MODEL_DIR = os.path.join(os.path.dirname(__file__), 'model')\n",
        "if not os.path.isdir(MODEL_DIR):\n",
        "    os.system('runipy train.ipynb')\n",
        "\n",
        "model = load_model('digital.hdf5')\n",
        "st.title('My Digit Recognizer')\n",
        "st.markdown('''Try to write a digit!''')\n",
        "SIZE = 192\n",
        "mode = st.checkbox(\"Draw (or Delete)?\", True)\n",
        "canvas_result = st_canvas(\n",
        "    fill_color='#000000',\n",
        "    stroke_width=20,\n",
        "    stroke_color='#FFFFFF',\n",
        "    background_color='#000000',\n",
        "    width=SIZE,\n",
        "    height=SIZE,\n",
        "    drawing_mode=\"freedraw\" if mode else \"transform\",\n",
        "    key='canvas')\n",
        "\n",
        "if canvas_result.image_data is not None:\n",
        "    img = cv2.resize(canvas_result.image_data.astype('uint8'), (28, 28))\n",
        "    rescaled = cv2.resize(img, (SIZE, SIZE), interpolation=cv2.INTER_NEAREST)\n",
        "    st.write('Model Input')\n",
        "    st.image(rescaled)\n",
        "\n",
        "if st.button('Predict'):\n",
        "    test_x = cv2.cvtColor(img, cv2.COLOR_BGR2GRAY)\n",
        "    val = model.predict(test_x.reshape(1, 28, 28))\n",
        "    st.write(f'result: {np.argmax(val[0])}')\n",
        "    st.bar_chart(val[0])"
      ],
      "execution_count": null,
      "outputs": [
        {
          "output_type": "stream",
          "text": [
            "Overwriting app.py\n"
          ],
          "name": "stdout"
        }
      ]
    },
    {
      "cell_type": "code",
      "metadata": {
        "colab": {
          "base_uri": "https://localhost:8080/",
          "height": 52
        },
        "id": "YNQjZoadzx_U",
        "outputId": "170b3c98-b108-493e-e776-dfbdbcecb7f4"
      },
      "source": [
        "from pyngrok import ngrok\n",
        "!nohup streamlit run app.py &\n",
        "url = ngrok.connect(port='8501')\n",
        "url"
      ],
      "execution_count": null,
      "outputs": [
        {
          "output_type": "stream",
          "text": [
            "nohup: appending output to 'nohup.out'\n"
          ],
          "name": "stdout"
        },
        {
          "output_type": "execute_result",
          "data": {
            "application/vnd.google.colaboratory.intrinsic+json": {
              "type": "string"
            },
            "text/plain": [
              "'http://a3dc14fbe649.ngrok.io'"
            ]
          },
          "metadata": {
            "tags": []
          },
          "execution_count": 2
        }
      ]
    }
  ]
}